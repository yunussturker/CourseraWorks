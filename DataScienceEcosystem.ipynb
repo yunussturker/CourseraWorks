{
 "cells": [
  {
   "cell_type": "markdown",
   "id": "aba2142b-f35e-4470-b499-695beaba286a",
   "metadata": {},
   "source": [
    "# Data Science Tools and Ecosystem"
   ]
  },
  {
   "cell_type": "markdown",
   "id": "cf0c1804-2301-4df2-af1b-6a5b0faa27cd",
   "metadata": {},
   "source": [
    "#### In this notebook, Data Science Tools and Ecosystem are summarized.\n"
   ]
  },
  {
   "cell_type": "markdown",
   "id": "25380e2a-3aeb-4c2c-83fb-1e402c1e4810",
   "metadata": {},
   "source": [
    "#### Some of the popular languages that Data Scientists use are:\n",
    "1. Python\n",
    "2. R\n",
    "3. Java\n",
    "\n",
    "**Objectives:**\n",
    "- JavaScript\n",
    "- SQL\n",
    "- Julia"
   ]
  },
  {
   "cell_type": "markdown",
   "id": "0feead5c-f549-494c-9643-a9ef6aee00ac",
   "metadata": {},
   "source": [
    "#### Some of the commonly used libraries used by Data Scientists include:\n",
    "1. Scikit Learn\n",
    "2. Tensorflow\n",
    "3. PyTorch"
   ]
  },
  {
   "cell_type": "markdown",
   "id": "e612fb2d-a7e3-4f44-8c41-73678df7f092",
   "metadata": {},
   "source": [
    "| Data Science Tools |\n",
    "| -------------------|\n",
    "| Apache Spark |\n",
    "| BigML |\n",
    "| Tableau |"
   ]
  },
  {
   "cell_type": "markdown",
   "id": "9ed6d96e-d9df-4d24-a626-56a1625b96ec",
   "metadata": {},
   "source": [
    "### Below are a few examples of evaluating arithmetic expressions in Python."
   ]
  },
  {
   "cell_type": "code",
   "execution_count": 2,
   "id": "84fa8a8d-ca70-4e4a-a441-a51b6127057d",
   "metadata": {},
   "outputs": [
    {
     "data": {
      "text/plain": [
       "17"
      ]
     },
     "execution_count": 2,
     "metadata": {},
     "output_type": "execute_result"
    }
   ],
   "source": [
    "(3*4)+5 # This a simple arithmetic expression to mutiply then add integers"
   ]
  },
  {
   "cell_type": "code",
   "execution_count": 3,
   "id": "e7707409-6dce-4871-8fa3-afb51f8b4618",
   "metadata": {},
   "outputs": [
    {
     "data": {
      "text/plain": [
       "3.3333333333333335"
      ]
     },
     "execution_count": 3,
     "metadata": {},
     "output_type": "execute_result"
    }
   ],
   "source": [
    "200 / 60 # This will convert 200 minutes to hours by diving by 60"
   ]
  },
  {
   "cell_type": "markdown",
   "id": "ff1ad86f-8137-4a06-974f-727b8501a42d",
   "metadata": {},
   "source": [
    "## Author\n",
    "Yunus Emre Türker"
   ]
  },
  {
   "cell_type": "code",
   "execution_count": null,
   "id": "a9c3c9a7-3941-4d16-bb6c-8ca009c6bc51",
   "metadata": {},
   "outputs": [],
   "source": []
  }
 ],
 "metadata": {
  "kernelspec": {
   "display_name": "Python 3 (ipykernel)",
   "language": "python",
   "name": "python3"
  },
  "language_info": {
   "codemirror_mode": {
    "name": "ipython",
    "version": 3
   },
   "file_extension": ".py",
   "mimetype": "text/x-python",
   "name": "python",
   "nbconvert_exporter": "python",
   "pygments_lexer": "ipython3",
   "version": "3.10.7"
  }
 },
 "nbformat": 4,
 "nbformat_minor": 5
}
